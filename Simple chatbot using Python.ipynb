{
 "cells": [
  {
   "cell_type": "markdown",
   "id": "c6ead785",
   "metadata": {},
   "source": [
    "\n",
    "# This code creates a basic chatbot in Python"
   ]
  },
  {
   "cell_type": "code",
   "execution_count": 1,
   "id": "60fd89a9",
   "metadata": {},
   "outputs": [
    {
     "name": "stdout",
     "output_type": "stream",
     "text": [
      "What would you like to talk about? weather\n",
      "I'm sorry, I don't understand.\n"
     ]
    }
   ],
   "source": [
    "#importing essential libraries\n",
    "import random\n",
    "import re\n",
    "\n",
    "#defining a list of responses\n",
    "responses = [\"Hello, how can I help you?\",\n",
    "             \"I'm sorry, I don't understand.\",\n",
    "             \"What would you like to talk about?\",\n",
    "             \"Tell me more.\",\n",
    "             \"Can you give me an example?\"]\n",
    "\n",
    "#defining a function to respond to user input\n",
    "def respond(user_input):\n",
    "    #convert input to lowercase\n",
    "    user_input = user_input.lower()\n",
    "    #check for special keywords\n",
    "    if re.search(\"hello\", user_input):\n",
    "        #return a random response from the list\n",
    "        return random.choice(responses)\n",
    "    #return a generic response\n",
    "    else:\n",
    "        return \"I'm sorry, I don't understand.\"\n",
    "\n",
    "#get input from the user\n",
    "user_input = input(\"What would you like to talk about? \")\n",
    "\n",
    "#print the response\n",
    "print(respond(user_input))"
   ]
  },
  {
   "cell_type": "code",
   "execution_count": null,
   "id": "4b6624d7",
   "metadata": {},
   "outputs": [],
   "source": []
  }
 ],
 "metadata": {
  "kernelspec": {
   "display_name": "Python 3 (ipykernel)",
   "language": "python",
   "name": "python3"
  },
  "language_info": {
   "codemirror_mode": {
    "name": "ipython",
    "version": 3
   },
   "file_extension": ".py",
   "mimetype": "text/x-python",
   "name": "python",
   "nbconvert_exporter": "python",
   "pygments_lexer": "ipython3",
   "version": "3.9.12"
  }
 },
 "nbformat": 4,
 "nbformat_minor": 5
}
